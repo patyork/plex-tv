{
 "metadata": {
  "name": ""
 },
 "nbformat": 3,
 "nbformat_minor": 0,
 "worksheets": [
  {
   "cells": [
    {
     "cell_type": "code",
     "collapsed": false,
     "input": [
      "plexUser = 'yorkhome'\n",
      "plexPass = 'yorkhome1'"
     ],
     "language": "python",
     "metadata": {},
     "outputs": [],
     "prompt_number": 1
    },
    {
     "cell_type": "code",
     "collapsed": false,
     "input": [
      "# Manual Configurations\n",
      "friendlyServerName = 'testinstall' + '220'\n",
      "availableRemotely = '0'"
     ],
     "language": "python",
     "metadata": {},
     "outputs": [],
     "prompt_number": 2
    },
    {
     "cell_type": "code",
     "collapsed": false,
     "input": [
      "# Automatic Configurations\n",
      "import string, random\n",
      "clientId = ''.join(random.choice(string.ascii_lowercase + string.digits) for _ in xrange(25)) #TODO: Save+load\n",
      "plexHeaders = {\n",
      "               'X-Plex-Client-Identifier': clientId,\n",
      "                'X-Plex-Device-Name' : 'PlexInstaller (Pat York)',\n",
      "                'X-Plex-Device' : 'github.com/patyork',\n",
      "               'X-Plex-Token' : 'toBeDetermined'\n",
      "               }"
     ],
     "language": "python",
     "metadata": {},
     "outputs": [],
     "prompt_number": 3
    },
    {
     "cell_type": "heading",
     "level": 1,
     "metadata": {},
     "source": [
      "Initial Setup"
     ]
    },
    {
     "cell_type": "code",
     "collapsed": false,
     "input": [
      "import requests as r"
     ],
     "language": "python",
     "metadata": {},
     "outputs": [],
     "prompt_number": 4
    },
    {
     "cell_type": "code",
     "collapsed": false,
     "input": [
      "# Sanity check\n",
      "req = r.get('http://localhost:32400')\n",
      "print 'Ready? : %s' % (req.status_code == 200)"
     ],
     "language": "python",
     "metadata": {},
     "outputs": [
      {
       "output_type": "stream",
       "stream": "stdout",
       "text": [
        "Ready? : True\n"
       ]
      }
     ],
     "prompt_number": 5
    },
    {
     "cell_type": "code",
     "collapsed": false,
     "input": [
      "print req.status_code, req.content"
     ],
     "language": "python",
     "metadata": {},
     "outputs": [
      {
       "output_type": "stream",
       "stream": "stdout",
       "text": [
        "200 <?xml version=\"1.0\" encoding=\"UTF-8\"?>\n",
        "<MediaContainer size=\"19\" allowCameraUpload=\"0\" allowChannelAccess=\"1\" allowSharing=\"1\" allowSync=\"0\" backgroundProcessing=\"1\" companionProxy=\"1\" eventStream =\"1\" friendlyName=\"local-katah\" hubSearch=\"1\" machineIdentifier=\"4e4bc52d2a65c49b982b83cda2dea65ec56c45f3\" multiuser=\"1\" myPlex=\"1\" myPlexMappingState=\"mapped\" myPlexSigninState=\"none\" myPlexSubscription=\"0\" platform=\"Linux\" platformVersion=\"4.2.0-27-generic (#32~14.04.1-Ubuntu SMP Fri Jan 22 15:32:26 UTC 2016)\" pluginHost=\"1\" readOnlyLibraries=\"0\" requestParametersInCookie=\"1\" sync=\"1\" transcoderActiveVideoSessions=\"0\" transcoderAudio=\"1\" transcoderLyrics=\"1\" transcoderPhoto=\"1\" transcoderSubtitles=\"1\" transcoderVideo=\"1\" transcoderVideoBitrates=\"64,96,208,320,720,1500,2000,3000,4000,8000,10000,12000,20000\" transcoderVideoQualities=\"0,1,2,3,4,5,6,7,8,9,10,11,12\" transcoderVideoResolutions=\"128,128,160,240,320,480,768,720,720,1080,1080,1080,1080\" updatedAt=\"1470758304\" updater=\"1\" version=\"1.0.3.2461-35f0caa\">\n",
        "<Directory count=\"1\" key=\"activity\" title=\"activity\" />\n",
        "<Directory count=\"1\" key=\"butler\" title=\"butler\" />\n",
        "<Directory count=\"1\" key=\"channels\" title=\"channels\" />\n",
        "<Directory count=\"1\" key=\"clients\" title=\"clients\" />\n",
        "<Directory count=\"1\" key=\"diagnostics\" title=\"diagnostics\" />\n",
        "<Directory count=\"1\" key=\"hubs\" title=\"hubs\" />\n",
        "<Directory count=\"1\" key=\"library\" title=\"library\" />\n",
        "<Directory count=\"1\" key=\"neighborhood\" title=\"neighborhood\" />\n",
        "<Directory count=\"1\" key=\"playQueues\" title=\"playQueues\" />\n",
        "<Directory count=\"1\" key=\"player\" title=\"player\" />\n",
        "<Directory count=\"1\" key=\"playlists\" title=\"playlists\" />\n",
        "<Directory count=\"1\" key=\"resources\" title=\"resources\" />\n",
        "<Directory count=\"1\" key=\"search\" title=\"search\" />\n",
        "<Directory count=\"1\" key=\"server\" title=\"server\" />\n",
        "<Directory count=\"1\" key=\"servers\" title=\"servers\" />\n",
        "<Directory count=\"1\" key=\"statistics\" title=\"statistics\" />\n",
        "<Directory count=\"1\" key=\"system\" title=\"system\" />\n",
        "<Directory count=\"1\" key=\"transcode\" title=\"transcode\" />\n",
        "<Directory count=\"1\" key=\"updater\" title=\"updater\" />\n",
        "</MediaContainer>\n",
        "\n"
       ]
      }
     ],
     "prompt_number": 6
    },
    {
     "cell_type": "code",
     "collapsed": false,
     "input": [
      "print plexHeaders"
     ],
     "language": "python",
     "metadata": {},
     "outputs": [
      {
       "output_type": "stream",
       "stream": "stdout",
       "text": [
        "{'X-Plex-Device': 'github.com/patyork', 'X-Plex-Client-Identifier': '9u4voqyzz12q42zyzw748o9ow', 'X-Plex-Device-Name': 'PlexInstaller (Pat York)', 'X-Plex-Token': 'toBeDetermined'}\n"
       ]
      }
     ],
     "prompt_number": 7
    },
    {
     "cell_type": "heading",
     "level": 2,
     "metadata": {},
     "source": [
      "Accept EULA"
     ]
    },
    {
     "cell_type": "code",
     "collapsed": false,
     "input": [
      "import requests as r\n",
      "import xml.etree.ElementTree as xml"
     ],
     "language": "python",
     "metadata": {},
     "outputs": [],
     "prompt_number": 12
    },
    {
     "cell_type": "code",
     "collapsed": false,
     "input": [
      "def GetPreferenceValue(pref):\n",
      "    resp = r.get('http://localhost:32400/:/prefs', params=plexHeaders)\n",
      "    x = xml.fromstring(resp.content)\n",
      "    for i in x.iter('Setting'):\n",
      "        if i.get('id') == pref: return (resp.status_code, resp.content, i.get('value'))\n",
      "    return (resp.status_code, resp.content, None)"
     ],
     "language": "python",
     "metadata": {},
     "outputs": [],
     "prompt_number": 9
    },
    {
     "cell_type": "code",
     "collapsed": false,
     "input": [
      "acceptEULA = r.put('http://localhost:32400/:/prefs?AcceptedEULA=true', headers=plexHeaders)\n",
      "print 'Accepted EULA? : %s' % (acceptEULA.status_code == 200)"
     ],
     "language": "python",
     "metadata": {},
     "outputs": [
      {
       "output_type": "stream",
       "stream": "stdout",
       "text": [
        "Accepted EULA? : True\n"
       ]
      }
     ],
     "prompt_number": 10
    },
    {
     "cell_type": "code",
     "collapsed": false,
     "input": [
      "a, b, c = GetPreferenceValue('AcceptedEULA')\n",
      "print a, c"
     ],
     "language": "python",
     "metadata": {},
     "outputs": [
      {
       "output_type": "stream",
       "stream": "stdout",
       "text": [
        "200 true\n"
       ]
      }
     ],
     "prompt_number": 13
    },
    {
     "cell_type": "heading",
     "level": 2,
     "metadata": {},
     "source": [
      "Sign In to Plex"
     ]
    },
    {
     "cell_type": "code",
     "collapsed": false,
     "input": [
      "import requests as r\n",
      "import xml.etree.ElementTree as xml"
     ],
     "language": "python",
     "metadata": {},
     "outputs": [],
     "prompt_number": 14
    },
    {
     "cell_type": "code",
     "collapsed": false,
     "input": [
      "signIn = r.post('https://plex.tv/api/v2/users/signin',\n",
      "                data={'login':plexUser, 'password':plexPass},\n",
      "                headers=plexHeaders\n",
      "                )\n",
      "\n",
      "print 'Signed in? : %s' % (signIn.status_code == 201)\n",
      "#print 'Internal API Token : %s' % ("
     ],
     "language": "python",
     "metadata": {},
     "outputs": [
      {
       "output_type": "stream",
       "stream": "stdout",
       "text": [
        "Signed in? : True\n"
       ]
      }
     ],
     "prompt_number": 15
    },
    {
     "cell_type": "code",
     "collapsed": false,
     "input": [
      "print signIn.status_code, signIn.content"
     ],
     "language": "python",
     "metadata": {},
     "outputs": [
      {
       "output_type": "stream",
       "stream": "stdout",
       "text": [
        "201 <?xml version=\"1.0\" encoding=\"UTF-8\"?>\n",
        "<user email=\"pyork211099@gmail.com\" id=\"10134753\" uuid=\"2203872c6642238e\" username=\"yorkhome\" title=\"yorkhome\" locale=\"\" emailOnlyAuth=\"0\" cloudSyncDevice=\"\" thumb=\"https://plex.tv/users/2203872c6642238e/avatar\" authToken=\"FeHdnzqoXgNdksTnt7go\" mailingListStatus=\"active\" mailingListActive=\"1\" scrobbleTypes=\"\" lastSignInAt=\"1470195978\" restricted=\"0\" home=\"0\" guest=\"0\" queueEmail=\"queue+bU8bQ2ysRdpornQi2Mps@save.plex.tv\" queueUid=\"8f9b93ab044e2e06\" homeSize=\"1\" certificateVersion=\"2\" rememberExpiresAt=\"\">\n",
        "  <profile autoSelectAudio=\"0\" defaultAudioLanguage=\"en\" defaultSubtitleLanguage=\"en\" autoSelectSubtitle=\"0\"/>\n",
        "  <entitlements>\n",
        "    <entitlement id=\"xbox_one\"/>\n",
        "  </entitlements>\n",
        "</user>\n",
        "\n"
       ]
      }
     ],
     "prompt_number": 16
    },
    {
     "cell_type": "code",
     "collapsed": false,
     "input": [
      "response = xml.fromstring(signIn.content)\n",
      "for user in response.iter('user'):\n",
      "    plexHeaders['X-Plex-Token'] = user.get('authToken')"
     ],
     "language": "python",
     "metadata": {},
     "outputs": [],
     "prompt_number": 17
    },
    {
     "cell_type": "code",
     "collapsed": false,
     "input": [
      "#r.get('https://plex.tv/api/resources', params=dict(plexHeaders, **{'includeHttps':'1'}))"
     ],
     "language": "python",
     "metadata": {},
     "outputs": [],
     "prompt_number": 18
    },
    {
     "cell_type": "heading",
     "level": 2,
     "metadata": {},
     "source": [
      "Set a Friendly Name, Availablity settings, and Claim"
     ]
    },
    {
     "cell_type": "code",
     "collapsed": false,
     "input": [
      "prefs = r.put('http://localhost:32400/:/prefs?PublishServerOnPlexOnlineKey=' + availableRemotely +\n",
      "              '&FriendlyName=' + friendlyServerName, headers=plexHeaders)\n",
      "print 'Friendly Name and Availabiltiy setting Set' if prefs.status_code == 200 else 'Error setting Friendly Name and Availabiltiy setting!'"
     ],
     "language": "python",
     "metadata": {},
     "outputs": [
      {
       "output_type": "stream",
       "stream": "stdout",
       "text": [
        "Friendly Name and Availabiltiy setting Set\n"
       ]
      }
     ],
     "prompt_number": 19
    },
    {
     "cell_type": "code",
     "collapsed": false,
     "input": [
      "print prefs.status_code, prefs.content"
     ],
     "language": "python",
     "metadata": {},
     "outputs": [
      {
       "output_type": "stream",
       "stream": "stdout",
       "text": [
        "200 \n"
       ]
      }
     ],
     "prompt_number": 20
    },
    {
     "cell_type": "code",
     "collapsed": false,
     "input": [
      "a, b, c = GetPreferenceValue('PublishServerOnPlexOnlineKey')\n",
      "print a, c"
     ],
     "language": "python",
     "metadata": {},
     "outputs": [
      {
       "output_type": "stream",
       "stream": "stdout",
       "text": [
        "200 false\n"
       ]
      }
     ],
     "prompt_number": 21
    },
    {
     "cell_type": "code",
     "collapsed": false,
     "input": [
      "a, b, c = GetPreferenceValue('FriendlyName')\n",
      "print a, c"
     ],
     "language": "python",
     "metadata": {},
     "outputs": [
      {
       "output_type": "stream",
       "stream": "stdout",
       "text": [
        "200 testinstall220\n"
       ]
      }
     ],
     "prompt_number": 22
    },
    {
     "cell_type": "code",
     "collapsed": false,
     "input": [
      "claim = r.get('https://plex.tv/api/claim/token', params=plexHeaders)\n",
      "claimToken = xml.fromstring(claim.content).get('token')\n",
      "print claimToken"
     ],
     "language": "python",
     "metadata": {},
     "outputs": [
      {
       "output_type": "stream",
       "stream": "stdout",
       "text": [
        "claim-C2TkyGx9jzc672z3ZVSp\n"
       ]
      }
     ],
     "prompt_number": 51
    },
    {
     "cell_type": "code",
     "collapsed": false,
     "input": [
      "print claim.content"
     ],
     "language": "python",
     "metadata": {},
     "outputs": [
      {
       "output_type": "stream",
       "stream": "stdout",
       "text": [
        "<MediaContainer token=\"claim-C2TkyGx9jzc672z3ZVSp\"/>\n",
        "\n"
       ]
      }
     ],
     "prompt_number": 58
    },
    {
     "cell_type": "code",
     "collapsed": false,
     "input": [
      "processClaim = r.post('http://localhost:32400/myplex/claim?token=' + claimToken +\n",
      "                      '&X-Plex-Client-Identifier=' + clientId)#, data=dict(plexHeaders, **{'token':claimToken}))\n",
      "print processClaim.content"
     ],
     "language": "python",
     "metadata": {},
     "outputs": [
      {
       "output_type": "stream",
       "stream": "stdout",
       "text": [
        "<html><head><title>Unauthorized</title></head><body><h1>401 Unauthorized</h1></body></html>\n"
       ]
      }
     ],
     "prompt_number": 59
    },
    {
     "cell_type": "code",
     "collapsed": false,
     "input": [
      "claim = r.get('https://plex.tv/api/claim/token', params=plexHeaders)\n",
      "claimToken = xml.fromstring(claim.content).get('token')\n",
      "if(claimToken is not None):\n",
      "    myPlex = xml.fromstring(processClaim.content)\n",
      "    print 'Mapping State: %s\\nMapping Error: %s\\nError Message: %s\\nLogin State: %s\\nPublic Address: %s' % \\\n",
      "        (myPlex.get('mappingState'), myPlex.get('mappingError'), myPlex.get('mappingErrorMessage'), \\\n",
      "         myPlex.get('signInState'), myPlex.get('publicAddress'))"
     ],
     "language": "python",
     "metadata": {},
     "outputs": [
      {
       "output_type": "stream",
       "stream": "stdout",
       "text": [
        "Mapping State: None\n",
        "Mapping Error: None\n",
        "Error Message: None\n",
        "Login State: None\n",
        "Public Address: None\n"
       ]
      }
     ],
     "prompt_number": 24
    },
    {
     "cell_type": "code",
     "collapsed": false,
     "input": [
      "plexHeaders"
     ],
     "language": "python",
     "metadata": {},
     "outputs": [
      {
       "metadata": {},
       "output_type": "pyout",
       "prompt_number": 27,
       "text": [
        "{'X-Plex-Client-Identifier': 'fgbwonniq3cpcyuo03kk2enfc',\n",
        " 'X-Plex-Device': 'github.com/patyork',\n",
        " 'X-Plex-Device-Name': 'PlexInstaller (Pat York)',\n",
        " 'X-Plex-Token': 'DzxmKDKH3pcpHxd25aRr'}"
       ]
      }
     ],
     "prompt_number": 27
    },
    {
     "cell_type": "code",
     "collapsed": false,
     "input": [
      "claim = r.get('https://plex.tv/api/claim/token', params=plexHeaders)"
     ],
     "language": "python",
     "metadata": {},
     "outputs": [],
     "prompt_number": 26
    },
    {
     "cell_type": "code",
     "collapsed": false,
     "input": [
      "claim.content"
     ],
     "language": "python",
     "metadata": {},
     "outputs": [
      {
       "metadata": {},
       "output_type": "pyout",
       "prompt_number": 28,
       "text": [
        "'<MediaContainer token=\"claim-MxXQPJNVerxBpjv3WMj4\"/>\\n'"
       ]
      }
     ],
     "prompt_number": 28
    },
    {
     "cell_type": "code",
     "collapsed": false,
     "input": [
      "xml.fromstring(claim.content).get('token')"
     ],
     "language": "python",
     "metadata": {},
     "outputs": [
      {
       "metadata": {},
       "output_type": "pyout",
       "prompt_number": 29,
       "text": [
        "'claim-MxXQPJNVerxBpjv3WMj4'"
       ]
      }
     ],
     "prompt_number": 29
    },
    {
     "cell_type": "code",
     "collapsed": false,
     "input": [
      "claimToken = xml.fromstring(claim.content).get('token')\n",
      "print claimToken"
     ],
     "language": "python",
     "metadata": {},
     "outputs": [
      {
       "output_type": "stream",
       "stream": "stdout",
       "text": [
        "claim-MxXQPJNVerxBpjv3WMj4\n"
       ]
      }
     ],
     "prompt_number": 30
    },
    {
     "cell_type": "code",
     "collapsed": false,
     "input": [
      "plexHeaders"
     ],
     "language": "python",
     "metadata": {},
     "outputs": [
      {
       "metadata": {},
       "output_type": "pyout",
       "prompt_number": 25,
       "text": [
        "{'X-Plex-Client-Identifier': '9u4voqyzz12q42zyzw748o9ow',\n",
        " 'X-Plex-Device': 'github.com/patyork',\n",
        " 'X-Plex-Device-Name': 'PlexInstaller (Pat York)',\n",
        " 'X-Plex-Token': 'FeHdnzqoXgNdksTnt7go'}"
       ]
      }
     ],
     "prompt_number": 25
    },
    {
     "cell_type": "code",
     "collapsed": false,
     "input": [
      "dict(plexHeaders, **{'token':claimToken})"
     ],
     "language": "python",
     "metadata": {},
     "outputs": [
      {
       "metadata": {},
       "output_type": "pyout",
       "prompt_number": 32,
       "text": [
        "{'X-Plex-Client-Identifier': 'fgbwonniq3cpcyuo03kk2enfc',\n",
        " 'X-Plex-Device': 'github.com/patyork',\n",
        " 'X-Plex-Device-Name': 'PlexInstaller (Pat York)',\n",
        " 'X-Plex-Token': 'DzxmKDKH3pcpHxd25aRr',\n",
        " 'token': 'claim-MxXQPJNVerxBpjv3WMj4'}"
       ]
      }
     ],
     "prompt_number": 32
    },
    {
     "cell_type": "code",
     "collapsed": false,
     "input": [
      "processClaim = r.post('http://localhost:32400/myplex/claim', params=dict(plexHeaders, **{'token':claimToken}))"
     ],
     "language": "python",
     "metadata": {},
     "outputs": [],
     "prompt_number": 33
    },
    {
     "cell_type": "code",
     "collapsed": false,
     "input": [
      "processClaim.content"
     ],
     "language": "python",
     "metadata": {},
     "outputs": [
      {
       "metadata": {},
       "output_type": "pyout",
       "prompt_number": 34,
       "text": [
        "'<html><head><title>Unauthorized</title></head><body><h1>401 Unauthorized</h1></body></html>'"
       ]
      }
     ],
     "prompt_number": 34
    },
    {
     "cell_type": "code",
     "collapsed": false,
     "input": [
      "tmp = r.get('http://plex.tv/api/resources', params=plexHeaders)"
     ],
     "language": "python",
     "metadata": {},
     "outputs": [],
     "prompt_number": 45
    },
    {
     "cell_type": "code",
     "collapsed": false,
     "input": [
      "tmp.status_code"
     ],
     "language": "python",
     "metadata": {},
     "outputs": [
      {
       "metadata": {},
       "output_type": "pyout",
       "prompt_number": 46,
       "text": [
        "200"
       ]
      }
     ],
     "prompt_number": 46
    },
    {
     "cell_type": "code",
     "collapsed": false,
     "input": [
      "tmp = r.post('http://my.plexapp.com/users/sign_in.xml', data={'login':plexUser, 'password':plexPass}, headers=plexHeaders)"
     ],
     "language": "python",
     "metadata": {},
     "outputs": [],
     "prompt_number": 28
    },
    {
     "cell_type": "code",
     "collapsed": false,
     "input": [
      "tmp.status_code"
     ],
     "language": "python",
     "metadata": {},
     "outputs": [
      {
       "metadata": {},
       "output_type": "pyout",
       "prompt_number": 29,
       "text": [
        "422"
       ]
      }
     ],
     "prompt_number": 29
    },
    {
     "cell_type": "code",
     "collapsed": false,
     "input": [
      "tmp.content"
     ],
     "language": "python",
     "metadata": {},
     "outputs": [
      {
       "metadata": {},
       "output_type": "pyout",
       "prompt_number": 47,
       "text": [
        "'<?xml version=\"1.0\" encoding=\"UTF-8\"?>\\n<MediaContainer size=\"7\">\\n  <Device name=\"brain-katah\" product=\"Plex Media Server\" productVersion=\"1.0.2.2413-7caf41d\" platform=\"Linux\" platformVersion=\"3.16.0-30-generic (#40~14.04.1-Ubuntu SMP Thu Jan 15 17:43:14 UTC 2015)\" device=\"PC\" clientIdentifier=\"1883e9e8c00d560bc24467d9d03bf97a92a5b161\" createdAt=\"1469649814\" lastSeenAt=\"1470754203\" provides=\"server\" owned=\"1\" accessToken=\"FeHdnzqoXgNdksTnt7go\" httpsRequired=\"0\" synced=\"0\" relay=\"1\" publicAddressMatches=\"0\" presence=\"1\">\\n    <Connection protocol=\"http\" address=\"192.168.1.58\" port=\"32400\" uri=\"http://192.168.1.58:32400\" local=\"1\"/>\\n    <Connection protocol=\"http\" address=\"71.94.74.4\" port=\"32400\" uri=\"http://71.94.74.4:32400\" local=\"0\"/>\\n  </Device>\\n  <Device name=\"testinstall220\" product=\"Plex Media Server\" productVersion=\"1.0.3.2461-35f0caa\" platform=\"Linux\" platformVersion=\"4.2.0-27-generic (#32~14.04.1-Ubuntu SMP Fri Jan 22 15:32:26 UTC 2016)\" device=\"PC\" clientIdentifier=\"4e4bc52d2a65c49b982b83cda2dea65ec56c45f3\" createdAt=\"1470758692\" lastSeenAt=\"1470758693\" provides=\"server\" owned=\"1\" accessToken=\"FeHdnzqoXgNdksTnt7go\" httpsRequired=\"0\" synced=\"0\" relay=\"0\" publicAddressMatches=\"1\" presence=\"1\">\\n    <Connection protocol=\"http\" address=\"10.0.2.15\" port=\"32400\" uri=\"http://10.0.2.15:32400\" local=\"1\"/>\\n  </Device>\\n  <Device name=\"mynewfriendlyname\" product=\"Plex Media Server\" productVersion=\"1.0.3.2461-35f0caa\" platform=\"Linux\" platformVersion=\"4.2.0-27-generic (#32~14.04.1-Ubuntu SMP Fri Jan 22 15:32:26 UTC 2016)\" device=\"PC\" clientIdentifier=\"70c35d9cfad4b52c3572582040938ef45b48d697\" createdAt=\"1470200059\" lastSeenAt=\"1470413142\" provides=\"server\" owned=\"1\" accessToken=\"FeHdnzqoXgNdksTnt7go\" httpsRequired=\"0\" synced=\"0\" relay=\"1\" publicAddressMatches=\"1\" presence=\"0\">\\n    <Connection protocol=\"http\" address=\"10.0.2.15\" port=\"32400\" uri=\"http://10.0.2.15:32400\" local=\"1\"/>\\n  </Device>\\n  <Device name=\"testserver11\" product=\"Plex Media Server\" productVersion=\"1.0.3.2461-35f0caa\" platform=\"Linux\" platformVersion=\"4.2.0-27-generic (#32~14.04.1-Ubuntu SMP Fri Jan 22 15:32:26 UTC 2016)\" device=\"PC\" clientIdentifier=\"82f4e928982c54b52b0da4efc299b5c516de1d78\" createdAt=\"1470195978\" lastSeenAt=\"1470195992\" provides=\"server\" owned=\"1\" accessToken=\"FeHdnzqoXgNdksTnt7go\" httpsRequired=\"0\" synced=\"0\" relay=\"1\" publicAddressMatches=\"1\" presence=\"0\">\\n    <Connection protocol=\"http\" address=\"10.0.2.15\" port=\"32400\" uri=\"http://10.0.2.15:32400\" local=\"1\"/>\\n  </Device>\\n  <Device name=\"local-katah\" product=\"Plex Media Server\" productVersion=\"1.0.3.2461-35f0caa\" platform=\"Linux\" platformVersion=\"4.2.0-27-generic (#32~14.04.1-Ubuntu SMP Fri Jan 22 15:32:26 UTC 2016)\" device=\"PC\" clientIdentifier=\"a85cf0cc480223d61920c2f27e170996e60e01a6\" createdAt=\"1470188591\" lastSeenAt=\"1470188595\" provides=\"server\" owned=\"1\" accessToken=\"FeHdnzqoXgNdksTnt7go\" httpsRequired=\"0\" synced=\"0\" relay=\"0\" publicAddressMatches=\"1\" presence=\"0\">\\n    <Connection protocol=\"http\" address=\"10.0.2.15\" port=\"32400\" uri=\"http://10.0.2.15:32400\" local=\"1\"/>\\n  </Device>\\n  <Device name=\"testasdf\" product=\"Plex Media Server\" productVersion=\"1.0.3.2461-35f0caa\" platform=\"Linux\" platformVersion=\"4.2.0-27-generic (#32~14.04.1-Ubuntu SMP Fri Jan 22 15:32:26 UTC 2016)\" device=\"PC\" clientIdentifier=\"f242200591adc08ca651e492f43381d6db3fad1f\" createdAt=\"1470188097\" lastSeenAt=\"1470188107\" provides=\"server\" owned=\"1\" accessToken=\"FeHdnzqoXgNdksTnt7go\" httpsRequired=\"0\" synced=\"0\" relay=\"1\" publicAddressMatches=\"1\" presence=\"0\">\\n    <Connection protocol=\"http\" address=\"10.0.2.15\" port=\"32400\" uri=\"http://10.0.2.15:32400\" local=\"1\"/>\\n  </Device>\\n  <Device name=\"TCLRoku TV - 2N00F3661504\" product=\"Plex for Roku\" productVersion=\"4.1.18.3420-c76365e-Plex\" platform=\"Roku\" platformVersion=\"7.x\" device=\"TCL 32S4610R\" clientIdentifier=\"Plex2N00F3661504\" createdAt=\"1469657466\" lastSeenAt=\"1470711686\" provides=\"player\" owned=\"1\" accessToken=\"FeHdnzqoXgNdksTnt7go\" publicAddressMatches=\"1\" presence=\"0\">\\n    <Connection protocol=\"http\" address=\"192.168.2.5\" port=\"8324\" uri=\"http://192.168.2.5:8324\" local=\"1\"/>\\n  </Device>\\n</MediaContainer>\\n'"
       ]
      }
     ],
     "prompt_number": 47
    },
    {
     "cell_type": "code",
     "collapsed": false,
     "input": [
      "signIn = r.post('https://plex.tv/api/v2/users/signin',\n",
      "                data={'login':plexUser, 'password':plexPass},\n",
      "                headers=plexHeaders\n",
      "                )\n",
      "\n",
      "print 'Signed in? : %s' % (signIn.status_code == 201)\n",
      "#print 'Internal API Token : %s' % ("
     ],
     "language": "python",
     "metadata": {},
     "outputs": [
      {
       "output_type": "stream",
       "stream": "stdout",
       "text": [
        "Signed in? : True\n"
       ]
      }
     ],
     "prompt_number": 31
    },
    {
     "cell_type": "code",
     "collapsed": false,
     "input": [
      "signIn.content"
     ],
     "language": "python",
     "metadata": {},
     "outputs": [
      {
       "metadata": {},
       "output_type": "pyout",
       "prompt_number": 32,
       "text": [
        "'<?xml version=\"1.0\" encoding=\"UTF-8\"?>\\n<user email=\"pyork211099@gmail.com\" id=\"10134753\" uuid=\"2203872c6642238e\" username=\"yorkhome\" title=\"yorkhome\" locale=\"\" emailOnlyAuth=\"0\" cloudSyncDevice=\"\" thumb=\"https://plex.tv/users/2203872c6642238e/avatar\" authToken=\"FeHdnzqoXgNdksTnt7go\" mailingListStatus=\"active\" mailingListActive=\"1\" scrobbleTypes=\"\" lastSignInAt=\"1470200059\" restricted=\"0\" home=\"0\" guest=\"0\" queueEmail=\"queue+bU8bQ2ysRdpornQi2Mps@save.plex.tv\" queueUid=\"8f9b93ab044e2e06\" homeSize=\"1\" certificateVersion=\"2\" rememberExpiresAt=\"\">\\n  <profile autoSelectAudio=\"0\" defaultAudioLanguage=\"en\" defaultSubtitleLanguage=\"en\" autoSelectSubtitle=\"0\"/>\\n  <entitlements>\\n    <entitlement id=\"xbox_one\"/>\\n  </entitlements>\\n</user>\\n'"
       ]
      }
     ],
     "prompt_number": 32
    },
    {
     "cell_type": "code",
     "collapsed": false,
     "input": [],
     "language": "python",
     "metadata": {},
     "outputs": []
    },
    {
     "cell_type": "code",
     "collapsed": false,
     "input": [
      "import requests as r\n",
      "s = r.Session()"
     ],
     "language": "python",
     "metadata": {},
     "outputs": [],
     "prompt_number": 35
    },
    {
     "cell_type": "code",
     "collapsed": false,
     "input": [
      "signIn = s.post('https://plex.tv/api/v2/users/signin',\n",
      "                data={'login':plexUser, 'password':plexPass},\n",
      "                headers=plexHeaders\n",
      "                )"
     ],
     "language": "python",
     "metadata": {},
     "outputs": [],
     "prompt_number": 36
    },
    {
     "cell_type": "code",
     "collapsed": false,
     "input": [
      "signIn.status_code"
     ],
     "language": "python",
     "metadata": {},
     "outputs": [
      {
       "metadata": {},
       "output_type": "pyout",
       "prompt_number": 37,
       "text": [
        "201"
       ]
      }
     ],
     "prompt_number": 37
    },
    {
     "cell_type": "code",
     "collapsed": false,
     "input": [
      "signIn.content"
     ],
     "language": "python",
     "metadata": {},
     "outputs": [
      {
       "metadata": {},
       "output_type": "pyout",
       "prompt_number": 38,
       "text": [
        "'<?xml version=\"1.0\" encoding=\"UTF-8\"?>\\n<user email=\"pyork211099@gmail.com\" id=\"10134753\" uuid=\"2203872c6642238e\" username=\"yorkhome\" title=\"yorkhome\" locale=\"\" emailOnlyAuth=\"0\" cloudSyncDevice=\"\" thumb=\"https://plex.tv/users/2203872c6642238e/avatar\" authToken=\"FeHdnzqoXgNdksTnt7go\" mailingListStatus=\"active\" mailingListActive=\"1\" scrobbleTypes=\"\" lastSignInAt=\"1470200059\" restricted=\"0\" home=\"0\" guest=\"0\" queueEmail=\"queue+bU8bQ2ysRdpornQi2Mps@save.plex.tv\" queueUid=\"8f9b93ab044e2e06\" homeSize=\"1\" certificateVersion=\"2\" rememberExpiresAt=\"\">\\n  <profile autoSelectAudio=\"0\" defaultAudioLanguage=\"en\" defaultSubtitleLanguage=\"en\" autoSelectSubtitle=\"0\"/>\\n  <entitlements>\\n    <entitlement id=\"xbox_one\"/>\\n  </entitlements>\\n</user>\\n'"
       ]
      }
     ],
     "prompt_number": 38
    },
    {
     "cell_type": "code",
     "collapsed": false,
     "input": [
      "signIn.cookies"
     ],
     "language": "python",
     "metadata": {},
     "outputs": [
      {
       "metadata": {},
       "output_type": "pyout",
       "prompt_number": 41,
       "text": [
        "<<class 'requests.cookies.RequestsCookieJar'>[Cookie(version=0, name='_mkra_ctxt', value='03edcc2f60a3a977e731fea14a941521--201', port=None, port_specified=False, domain='plex.tv', domain_specified=False, domain_initial_dot=False, path='/', path_specified=True, secure=True, expires=None, discard=True, comment=None, comment_url=None, rest={}, rfc2109=False)]>"
       ]
      }
     ],
     "prompt_number": 41
    },
    {
     "cell_type": "code",
     "collapsed": false,
     "input": [
      "tmp = s.get('https://plex.tv/api/resources', cookies=signIn.cookies)"
     ],
     "language": "python",
     "metadata": {},
     "outputs": [],
     "prompt_number": 42
    },
    {
     "cell_type": "code",
     "collapsed": false,
     "input": [],
     "language": "python",
     "metadata": {},
     "outputs": [],
     "prompt_number": 42
    },
    {
     "cell_type": "code",
     "collapsed": false,
     "input": [
      "tmp.status_code"
     ],
     "language": "python",
     "metadata": {},
     "outputs": [
      {
       "metadata": {},
       "output_type": "pyout",
       "prompt_number": 43,
       "text": [
        "401"
       ]
      }
     ],
     "prompt_number": 43
    },
    {
     "cell_type": "code",
     "collapsed": false,
     "input": [],
     "language": "python",
     "metadata": {},
     "outputs": []
    }
   ],
   "metadata": {}
  }
 ]
}